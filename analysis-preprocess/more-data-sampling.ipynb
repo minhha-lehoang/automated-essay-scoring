{
 "cells": [
  {
   "cell_type": "code",
   "execution_count": 1,
   "metadata": {},
   "outputs": [],
   "source": [
    "import os\n",
    "\n",
    "import pandas as pd\n",
    "import numpy as np\n",
    "\n",
    "import linguistic_features as lf\n",
    "\n",
    "data_extra_dir = \".../../../../persuade_corpus_2.0/persuade_2.0_human_scores_demo_id_github.csv\"\n",
    "output_dir = \"../../output/\""
   ]
  },
  {
   "cell_type": "code",
   "execution_count": 2,
   "metadata": {},
   "outputs": [
    {
     "data": {
      "text/html": [
       "<div>\n",
       "<style scoped>\n",
       "    .dataframe tbody tr th:only-of-type {\n",
       "        vertical-align: middle;\n",
       "    }\n",
       "\n",
       "    .dataframe tbody tr th {\n",
       "        vertical-align: top;\n",
       "    }\n",
       "\n",
       "    .dataframe thead th {\n",
       "        text-align: right;\n",
       "    }\n",
       "</style>\n",
       "<table border=\"1\" class=\"dataframe\">\n",
       "  <thead>\n",
       "    <tr style=\"text-align: right;\">\n",
       "      <th></th>\n",
       "      <th>essay_id</th>\n",
       "      <th>full_text</th>\n",
       "      <th>score</th>\n",
       "    </tr>\n",
       "  </thead>\n",
       "  <tbody>\n",
       "    <tr>\n",
       "      <th>0</th>\n",
       "      <td>423A1CA112E2</td>\n",
       "      <td>Phones\\n\\nModern humans today are always on th...</td>\n",
       "      <td>3</td>\n",
       "    </tr>\n",
       "    <tr>\n",
       "      <th>1</th>\n",
       "      <td>BC75783F96E3</td>\n",
       "      <td>This essay will explain if drivers should or s...</td>\n",
       "      <td>4</td>\n",
       "    </tr>\n",
       "    <tr>\n",
       "      <th>2</th>\n",
       "      <td>74C8BC7417DE</td>\n",
       "      <td>Driving while the use of cellular devices\\n\\nT...</td>\n",
       "      <td>2</td>\n",
       "    </tr>\n",
       "    <tr>\n",
       "      <th>3</th>\n",
       "      <td>A8445CABFECE</td>\n",
       "      <td>Phones &amp; Driving\\n\\nDrivers should not be able...</td>\n",
       "      <td>3</td>\n",
       "    </tr>\n",
       "    <tr>\n",
       "      <th>4</th>\n",
       "      <td>6B4F7A0165B9</td>\n",
       "      <td>Cell Phone Operation While Driving\\n\\nThe abil...</td>\n",
       "      <td>4</td>\n",
       "    </tr>\n",
       "    <tr>\n",
       "      <th>...</th>\n",
       "      <td>...</td>\n",
       "      <td>...</td>\n",
       "      <td>...</td>\n",
       "    </tr>\n",
       "    <tr>\n",
       "      <th>25991</th>\n",
       "      <td>18409261F5C2</td>\n",
       "      <td>80% of Americans believe seeking multiple opin...</td>\n",
       "      <td>5</td>\n",
       "    </tr>\n",
       "    <tr>\n",
       "      <th>25992</th>\n",
       "      <td>D46BCB48440A</td>\n",
       "      <td>When people ask for advice,they sometimes talk...</td>\n",
       "      <td>4</td>\n",
       "    </tr>\n",
       "    <tr>\n",
       "      <th>25993</th>\n",
       "      <td>0FB0700DAF44</td>\n",
       "      <td>During a group project, have you ever asked a ...</td>\n",
       "      <td>4</td>\n",
       "    </tr>\n",
       "    <tr>\n",
       "      <th>25994</th>\n",
       "      <td>D72CB1C11673</td>\n",
       "      <td>Making choices in life can be very difficult. ...</td>\n",
       "      <td>4</td>\n",
       "    </tr>\n",
       "    <tr>\n",
       "      <th>25995</th>\n",
       "      <td>DF920E0A7337</td>\n",
       "      <td>Have you ever asked more than one person for h...</td>\n",
       "      <td>4</td>\n",
       "    </tr>\n",
       "  </tbody>\n",
       "</table>\n",
       "<p>25996 rows × 3 columns</p>\n",
       "</div>"
      ],
      "text/plain": [
       "           essay_id                                          full_text  score\n",
       "0      423A1CA112E2  Phones\\n\\nModern humans today are always on th...      3\n",
       "1      BC75783F96E3  This essay will explain if drivers should or s...      4\n",
       "2      74C8BC7417DE  Driving while the use of cellular devices\\n\\nT...      2\n",
       "3      A8445CABFECE  Phones & Driving\\n\\nDrivers should not be able...      3\n",
       "4      6B4F7A0165B9  Cell Phone Operation While Driving\\n\\nThe abil...      4\n",
       "...             ...                                                ...    ...\n",
       "25991  18409261F5C2  80% of Americans believe seeking multiple opin...      5\n",
       "25992  D46BCB48440A  When people ask for advice,they sometimes talk...      4\n",
       "25993  0FB0700DAF44  During a group project, have you ever asked a ...      4\n",
       "25994  D72CB1C11673  Making choices in life can be very difficult. ...      4\n",
       "25995  DF920E0A7337  Have you ever asked more than one person for h...      4\n",
       "\n",
       "[25996 rows x 3 columns]"
      ]
     },
     "execution_count": 2,
     "metadata": {},
     "output_type": "execute_result"
    }
   ],
   "source": [
    "extra_data_df = pd.read_csv(data_extra_dir)\n",
    "\n",
    "extra_data_df = extra_data_df.rename(columns={'essay_id_comp': 'essay_id',\n",
    "                                              'holistic_essay_score': 'score'})\n",
    "\n",
    "extra_data_df = extra_data_df[['essay_id', 'full_text', 'score']]\n",
    "\n",
    "extra_data_df"
   ]
  },
  {
   "cell_type": "code",
   "execution_count": 3,
   "metadata": {},
   "outputs": [
    {
     "name": "stdout",
     "output_type": "stream",
     "text": [
      "Processing batch 25996/25996\r"
     ]
    }
   ],
   "source": [
    "lf.get_features(extra_data_df, \n",
    "                os.path.join(output_dir, 'extra_linguistic.csv'))"
   ]
  }
 ],
 "metadata": {
  "kernelspec": {
   "display_name": "Python 3",
   "language": "python",
   "name": "python3"
  },
  "language_info": {
   "codemirror_mode": {
    "name": "ipython",
    "version": 3
   },
   "file_extension": ".py",
   "mimetype": "text/x-python",
   "name": "python",
   "nbconvert_exporter": "python",
   "pygments_lexer": "ipython3",
   "version": "3.11.6"
  }
 },
 "nbformat": 4,
 "nbformat_minor": 2
}
